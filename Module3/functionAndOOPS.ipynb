{
 "cells": [
  {
   "cell_type": "code",
   "execution_count": null,
   "id": "92c5f9c4-c730-4c75-915a-4e5406359495",
   "metadata": {},
   "outputs": [],
   "source": [
    "#Module 3 Function Vs OOPS\n",
    "#Bashu Pokhrel"
   ]
  },
  {
   "cell_type": "code",
   "execution_count": 2,
   "id": "15ff334c-4691-4670-a26b-6d260a17286b",
   "metadata": {},
   "outputs": [
    {
     "name": "stdout",
     "output_type": "stream",
     "text": [
      "[0, 1, 1, 1, 2, 2]\n"
     ]
    }
   ],
   "source": [
    "#Sort an Arrary of 0s, 1s, 2s\n",
    "def sort012(arr, N):\n",
    "    low = 0\n",
    "    mid = 0\n",
    "    high = N - 1\n",
    "\n",
    "    while mid <= high:\n",
    "        if arr[mid] == 0:\n",
    "            arr[low], arr[mid] = arr[mid], arr[low]\n",
    "            low += 1\n",
    "            mid += 1\n",
    "        elif arr[mid] == 1:\n",
    "            mid += 1\n",
    "        else:\n",
    "            arr[mid], arr[high] = arr[high], arr[mid]\n",
    "            high -= 1\n",
    "\n",
    "# Example usage:\n",
    "arr = [1, 1, 2, 0, 1, 2]\n",
    "N = len(arr)\n",
    "sort012(arr, N)\n",
    "print(arr)"
   ]
  },
  {
   "cell_type": "code",
   "execution_count": 3,
   "id": "ff19d0b1-e7b7-4b3e-a277-4ce99b2fa6b3",
   "metadata": {},
   "outputs": [
    {
     "name": "stdout",
     "output_type": "stream",
     "text": [
      "3\n"
     ]
    }
   ],
   "source": [
    "# Binary Search\n",
    "def binarysearch(arr, low, high, K):\n",
    "    if low <= high:\n",
    "        mid = (low + high) // 2\n",
    "        \n",
    "        if arr[mid] == K:\n",
    "            return mid\n",
    "        elif arr[mid] < K:\n",
    "            return binarysearch(arr, mid + 1, high, K)\n",
    "        else:\n",
    "            return binarysearch(arr, low, mid - 1, K)\n",
    "    else:\n",
    "        return -1\n",
    "\n",
    "# Example usage:\n",
    "arr = [2, 3, 4, 10, 40]\n",
    "N = len(arr)\n",
    "K = 10\n",
    "result = binarysearch(arr, 0, N - 1, K)\n",
    "print(result)\n"
   ]
  },
  {
   "cell_type": "code",
   "execution_count": null,
   "id": "8f05859b-ec36-4dab-a452-28eb2894ed17",
   "metadata": {},
   "outputs": [],
   "source": []
  }
 ],
 "metadata": {
  "kernelspec": {
   "display_name": "Python 3 (ipykernel)",
   "language": "python",
   "name": "python3"
  },
  "language_info": {
   "codemirror_mode": {
    "name": "ipython",
    "version": 3
   },
   "file_extension": ".py",
   "mimetype": "text/x-python",
   "name": "python",
   "nbconvert_exporter": "python",
   "pygments_lexer": "ipython3",
   "version": "3.11.7"
  }
 },
 "nbformat": 4,
 "nbformat_minor": 5
}
