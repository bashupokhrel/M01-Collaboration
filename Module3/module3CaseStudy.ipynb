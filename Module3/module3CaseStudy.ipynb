{
 "cells": [
  {
   "cell_type": "code",
   "execution_count": null,
   "id": "23cad96e-c50c-4cf5-bdfb-86c0f5d37a6a",
   "metadata": {},
   "outputs": [],
   "source": [
    "#Module 3. Case study\n",
    "#Bashu Pokhrel\n"
   ]
  },
  {
   "cell_type": "code",
   "execution_count": 1,
   "id": "ea00ba08-d83d-400a-9ddf-852ad4e9e3f8",
   "metadata": {},
   "outputs": [
    {
     "name": "stdin",
     "output_type": "stream",
     "text": [
      "Enter the year:  2022\n",
      "Enter the make:  Honda\n",
      "Enter the model:  crv\n",
      "Enter the number of doors (2 or 4):  2\n",
      "Enter the type of roof (solid or sun roof):  sun roof\n"
     ]
    },
    {
     "name": "stdout",
     "output_type": "stream",
     "text": [
      "\n",
      "Vehicle Information:\n",
      "Vehicle type: car\n",
      "Year: 2022\n",
      "Make: Honda\n",
      "Model: crv\n",
      "Number of doors: 2\n",
      "Type of roof: sun roof\n"
     ]
    }
   ],
   "source": [
    "class Vehicle:\n",
    "    def __init__(self, vehicle_type):\n",
    "        self.vehicle_type = vehicle_type\n",
    "\n",
    "\n",
    "class Automobile(Vehicle):\n",
    "    def __init__(self, vehicle_type, year, make, model, doors, roof):\n",
    "        super().__init__(vehicle_type)\n",
    "        self.year = year\n",
    "        self.make = make\n",
    "        self.model = model\n",
    "        self.doors = doors\n",
    "        self.roof = roof\n",
    "\n",
    "    def display_info(self):\n",
    "        print(\"Vehicle type:\", self.vehicle_type)\n",
    "        print(\"Year:\", self.year)\n",
    "        print(\"Make:\", self.make)\n",
    "        print(\"Model:\", self.model)\n",
    "        print(\"Number of doors:\", self.doors)\n",
    "        print(\"Type of roof:\", self.roof)\n",
    "\n",
    "\n",
    "def main():\n",
    "    # Accepting user input\n",
    "    vehicle_type = \"car\"  \n",
    "    year = input(\"Enter the year: \")\n",
    "    make = input(\"Enter the make: \")\n",
    "    model = input(\"Enter the model: \")\n",
    "    doors = input(\"Enter the number of doors (2 or 4): \")\n",
    "    roof = input(\"Enter the type of roof (solid or sun roof): \")\n",
    "\n",
    "    # Creating an instance of Automobile\n",
    "    car = Automobile(vehicle_type, year, make, model, doors, roof)\n",
    "\n",
    "    # Outputting the data\n",
    "    print(\"\\nVehicle Information:\")\n",
    "    car.display_info()\n",
    "\n",
    "\n",
    "if __name__ == \"__main__\":\n",
    "    main()\n"
   ]
  },
  {
   "cell_type": "code",
   "execution_count": null,
   "id": "bcbdccb1-aa86-4744-a205-3edcca151e6b",
   "metadata": {},
   "outputs": [],
   "source": []
  }
 ],
 "metadata": {
  "kernelspec": {
   "display_name": "Python 3 (ipykernel)",
   "language": "python",
   "name": "python3"
  },
  "language_info": {
   "codemirror_mode": {
    "name": "ipython",
    "version": 3
   },
   "file_extension": ".py",
   "mimetype": "text/x-python",
   "name": "python",
   "nbconvert_exporter": "python",
   "pygments_lexer": "ipython3",
   "version": "3.11.7"
  }
 },
 "nbformat": 4,
 "nbformat_minor": 5
}
