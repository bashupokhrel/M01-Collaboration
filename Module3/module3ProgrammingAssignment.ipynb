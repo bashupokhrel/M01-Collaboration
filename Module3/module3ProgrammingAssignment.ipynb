{
 "cells": [
  {
   "cell_type": "code",
   "execution_count": null,
   "id": "1b1321de-b06d-4fdf-8216-971ed89c9993",
   "metadata": {},
   "outputs": [],
   "source": [
    "#Module 3: Programming Assignment\n",
    "# Bashu Pokhrel"
   ]
  },
  {
   "cell_type": "code",
   "execution_count": null,
   "id": "e2fa58d5-1178-41a2-b2c2-0b7be8f881e6",
   "metadata": {},
   "outputs": [],
   "source": [
    "#Chapter 7\n",
    "#7.4\n",
    "\n",
    "things = [\"mozzarella\", \"cinderella\", \"salmonella\"] # A list of things"
   ]
  },
  {
   "cell_type": "code",
   "execution_count": 2,
   "id": "7b46d509-9937-4c96-924f-4fedaeb429ce",
   "metadata": {},
   "outputs": [
    {
     "name": "stdout",
     "output_type": "stream",
     "text": [
      "['mozzarella', 'Cinderella', 'salmonella']\n"
     ]
    }
   ],
   "source": [
    "#chapter 7\n",
    "#7.5\n",
    "\n",
    "things = [\"mozzarella\", \"cinderella\", \"salmonella\"]\n",
    "\n",
    "# Finding the index of the element referring to a person (\"cinderella\")\n",
    "person_index = things.index(\"cinderella\")\n",
    "\n",
    "# Capitalizing the element\n",
    "things[person_index] = things[person_index].capitalize()\n",
    "\n",
    "# Printing the updated list\n",
    "print(things)"
   ]
  },
  {
   "cell_type": "code",
   "execution_count": null,
   "id": "4f2b71ff-efc9-4b13-b7c2-4a8610ecb582",
   "metadata": {},
   "outputs": [],
   "source": [
    "# The first letter of Cinderella from list has been capitalized."
   ]
  },
  {
   "cell_type": "code",
   "execution_count": 3,
   "id": "63ed3b17-4677-42de-b5a0-4388565b1006",
   "metadata": {},
   "outputs": [
    {
     "name": "stdout",
     "output_type": "stream",
     "text": [
      "['MOZZARELLA', 'cinderella', 'salmonella']\n"
     ]
    }
   ],
   "source": [
    "#Chapter 7\n",
    "#7.6\n",
    "\n",
    "things = [\"mozzarella\", \"cinderella\", \"salmonella\"]\n",
    "\n",
    "# Finding the index of the element containing \"mozzarella\"\n",
    "cheesy_index = things.index(\"mozzarella\")\n",
    "\n",
    "# Converting the element to uppercase\n",
    "things[cheesy_index] = things[cheesy_index].upper()\n",
    "\n",
    "# Printing the updated list\n",
    "print(things)\n"
   ]
  },
  {
   "cell_type": "code",
   "execution_count": 4,
   "id": "777c8f74-1f9d-4e70-96c0-ba3b61c82dc0",
   "metadata": {},
   "outputs": [
    {
     "name": "stdout",
     "output_type": "stream",
     "text": [
      "['mozzarella', 'cinderella']\n"
     ]
    }
   ],
   "source": [
    "#Chapter 7\n",
    "#7.7\n",
    "things = [\"mozzarella\", \"cinderella\", \"salmonella\"]\n",
    "\n",
    "# Removing the element containing \"salmonella\"\n",
    "things.remove(\"salmonella\")\n",
    "\n",
    "# Printing the updated list\n",
    "print(things)\n"
   ]
  },
  {
   "cell_type": "code",
   "execution_count": null,
   "id": "0df20a1f-522a-44e2-8838-477a264b44b5",
   "metadata": {},
   "outputs": [],
   "source": [
    "#Chapter 9\n",
    "#9.1\n",
    "\n",
    "#Defining a function good that returns a list.\n",
    "def good():\n",
    "    return ['Harry', 'Ron', 'Hermione']\n"
   ]
  },
  {
   "cell_type": "code",
   "execution_count": 5,
   "id": "b5dbb5c8-a91a-4d29-a2f6-c7eed3425c82",
   "metadata": {},
   "outputs": [
    {
     "name": "stdout",
     "output_type": "stream",
     "text": [
      "The third odd number is: 5\n"
     ]
    }
   ],
   "source": [
    "#Chapter 9\n",
    "#9.2\n",
    "\n",
    "def get_odds():\n",
    "    for num in range(1, 10, 2):\n",
    "        yield num\n",
    "\n",
    "# Using a for loop to find and print the third value returned\n",
    "count = 0\n",
    "for odd_num in get_odds():\n",
    "    count += 1\n",
    "    if count == 3:\n",
    "        print(\"The third odd number is:\", odd_num)\n",
    "        break\n"
   ]
  },
  {
   "cell_type": "code",
   "execution_count": null,
   "id": "70e37b80-dd68-49ca-ba1d-bd93dd5aa3dd",
   "metadata": {},
   "outputs": [],
   "source": []
  }
 ],
 "metadata": {
  "kernelspec": {
   "display_name": "Python 3 (ipykernel)",
   "language": "python",
   "name": "python3"
  },
  "language_info": {
   "codemirror_mode": {
    "name": "ipython",
    "version": 3
   },
   "file_extension": ".py",
   "mimetype": "text/x-python",
   "name": "python",
   "nbconvert_exporter": "python",
   "pygments_lexer": "ipython3",
   "version": "3.11.7"
  }
 },
 "nbformat": 4,
 "nbformat_minor": 5
}
