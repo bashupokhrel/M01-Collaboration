{
 "cells": [
  {
   "cell_type": "code",
   "execution_count": null,
   "id": "d8f67129-2a3f-4ccd-ad3a-7e42a1a81849",
   "metadata": {},
   "outputs": [],
   "source": [
    "#Bashu Pokhrel\n",
    "#Assignment 01\n",
    "\n",
    "# 3.1\n",
    "seconds_in_minute = 60\n",
    "minutes_in_hour = 60\n",
    "seconds_in_hour = seconds_in_minute * minutes_in_hour\n",
    "print(\"Seconds in an hour:\", seconds_in_hour)\n",
    "\n",
    "# 3.2\n",
    "seconds_per_hour = seconds_in_hour\n",
    "\n",
    "# 3.3\n",
    "hours_in_day = 24\n",
    "seconds_in_day = seconds_per_hour * hours_in_day\n",
    "print(\"Seconds in a day:\", seconds_in_day)\n",
    "\n",
    "# 3.4\n",
    "seconds_per_day = seconds_in_day\n",
    "\n",
    "# 3.5\n",
    "floating_point_division = seconds_per_day / seconds_per_hour\n",
    "print(\"Floating-point division result:\", floating_point_division)\n",
    "\n",
    "# 3.6\n",
    "integer_division = seconds_per_day // seconds_per_hour\n",
    "print(\"Integer division result:\", integer_division)\n",
    "\n",
    "#The integer division (//) gives the same value as the floating-point division (/) except for the decimal part. \n",
    "#This is expected because integer division truncates any decimal part, so it always rounds down to the nearest integer."
   ]
  }
 ],
 "metadata": {
  "kernelspec": {
   "display_name": "Python 3 (ipykernel)",
   "language": "python",
   "name": "python3"
  },
  "language_info": {
   "codemirror_mode": {
    "name": "ipython",
    "version": 3
   },
   "file_extension": ".py",
   "mimetype": "text/x-python",
   "name": "python",
   "nbconvert_exporter": "python",
   "pygments_lexer": "ipython3",
   "version": "3.11.7"
  }
 },
 "nbformat": 4,
 "nbformat_minor": 5
}
