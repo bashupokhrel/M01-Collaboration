{
 "cells": [
  {
   "cell_type": "code",
   "execution_count": null,
   "id": "066546e3-ba6a-4721-bed1-88ed4c3a95ef",
   "metadata": {},
   "outputs": [],
   "source": [
    "#Bashu Pokhrel\n",
    "#Module 6 Assignment"
   ]
  },
  {
   "cell_type": "code",
   "execution_count": null,
   "id": "05f6268b-0e5b-41d6-bd18-13605d3ce573",
   "metadata": {},
   "outputs": [],
   "source": [
    "#Module 6 13.1\n",
    "\n",
    "from datetime import date\n",
    "\n",
    "# Get the current date\n",
    "current_date = date.today()\n",
    "\n",
    "# Convert the date to a string\n",
    "date_string = current_date.strftime(\"%Y-%m-%d\")\n",
    "\n",
    "# Write the date string to the file\n",
    "with open(\"today.txt\", \"w\") as file:\n",
    "    file.write(date_string)\n",
    "\n",
    "print(\"Date has been written to today.txt successfully.\")\n"
   ]
  },
  {
   "cell_type": "code",
   "execution_count": null,
   "id": "d6569b8f-340c-44af-ac86-00e39cfc3bbf",
   "metadata": {},
   "outputs": [],
   "source": [
    "#13.2\n",
    "\n",
    "# Read the contents of the file into a string\n",
    "with open(\"today.txt\", \"r\") as file:\n",
    "    today_string = file.read()\n",
    "\n",
    "print(today_string)\n"
   ]
  },
  {
   "cell_type": "code",
   "execution_count": null,
   "id": "488c2f82-f092-4baa-8248-b84555d928c0",
   "metadata": {},
   "outputs": [],
   "source": [
    "#13.3\n",
    "\n",
    "# Read the contents of the file into a string\n",
    "with open(\"today.txt\", \"r\") as file:\n",
    "    today_string = file.read()\n",
    "\n",
    "print(today_string)\n"
   ]
  },
  {
   "cell_type": "code",
   "execution_count": null,
   "id": "ccc99aa4-0531-4b8d-86e2-b907506f25dc",
   "metadata": {},
   "outputs": [],
   "source": [
    "#15.1\n",
    "\n",
    "import multiprocessing\n",
    "import random\n",
    "import time\n",
    "from datetime import datetime\n",
    "\n",
    "def print_current_time():\n",
    "    # Generate a random wait time between 0 and 1 second\n",
    "    wait_time = random.random()\n",
    "    time.sleep(wait_time)\n",
    "\n",
    "    # Print the current time\n",
    "    current_time = datetime.now().strftime(\"%Y-%m-%d %H:%M:%S\")\n",
    "    print(f\"Current time: {current_time}\")\n",
    "\n",
    "if __name__ == \"__main__\":\n",
    "    # Create three separate processes\n",
    "    processes = []\n",
    "    for _ in range(3):\n",
    "        process = multiprocessing.Process(target=print_current_time)\n",
    "        processes.append(process)\n",
    "        process.start()\n",
    "\n",
    "    # Wait for all processes to finish\n",
    "    for process in processes:\n",
    "        process.join()\n"
   ]
  }
 ],
 "metadata": {
  "kernelspec": {
   "display_name": "Python 3 (ipykernel)",
   "language": "python",
   "name": "python3"
  },
  "language_info": {
   "codemirror_mode": {
    "name": "ipython",
    "version": 3
   },
   "file_extension": ".py",
   "mimetype": "text/x-python",
   "name": "python",
   "nbconvert_exporter": "python",
   "pygments_lexer": "ipython3",
   "version": "3.11.7"
  }
 },
 "nbformat": 4,
 "nbformat_minor": 5
}
