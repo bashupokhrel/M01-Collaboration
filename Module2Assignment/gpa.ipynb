{
 "cells": [
  {
   "cell_type": "code",
   "execution_count": null,
   "id": "7a7d00e2-1f89-4290-86f4-c5ac1b6e2b4b",
   "metadata": {},
   "outputs": [
    {
     "name": "stdout",
     "output_type": "stream",
     "text": [
      "Welcome to the GPA App!\n",
      "Enter 'ZZZ' as the last name to quit processing student records.\n"
     ]
    },
    {
     "name": "stdin",
     "output_type": "stream",
     "text": [
      "\n",
      "Enter your last name:  Rai\n",
      "Enter your first name:  Ram\n",
      "Enter your GPA:  3.85\n"
     ]
    },
    {
     "name": "stdout",
     "output_type": "stream",
     "text": [
      "Ram Rai has made the Dean's List!\n"
     ]
    },
    {
     "name": "stdin",
     "output_type": "stream",
     "text": [
      "\n",
      "Enter your last name:  John\n",
      "Enter your first name:  Brown\n",
      "Enter your GPA:  3.25\n"
     ]
    },
    {
     "name": "stdout",
     "output_type": "stream",
     "text": [
      "Brown John has made the Honor Roll!\n"
     ]
    },
    {
     "name": "stdin",
     "output_type": "stream",
     "text": [
      "\n",
      "Enter your last name:  Patel\n",
      "Enter your first name:  Deep\n",
      "Enter your GPA:  3.20\n"
     ]
    },
    {
     "name": "stdout",
     "output_type": "stream",
     "text": [
      "Sorry, Deep Patel does not qualify for Dean's List or Honor Roll.\n"
     ]
    },
    {
     "name": "stdin",
     "output_type": "stream",
     "text": [
      "\n",
      "Enter your last name:  White\n",
      "Enter your first name:  John\n",
      "Enter your GPA:  3.9\n"
     ]
    },
    {
     "name": "stdout",
     "output_type": "stream",
     "text": [
      "John White has made the Dean's List!\n"
     ]
    },
    {
     "name": "stdin",
     "output_type": "stream",
     "text": [
      "\n",
      "Enter your last name:  Nelko\n",
      "Enter your first name:  Paul\n",
      "Enter your GPA:  3.85\n"
     ]
    },
    {
     "name": "stdout",
     "output_type": "stream",
     "text": [
      "Paul Nelko has made the Dean's List!\n"
     ]
    }
   ],
   "source": [
    "# Author: Bashu Pokhrel\n",
    "# File Name: gpa_app.py\n",
    "# Description: This Python app asks for students' last and first names and GPAs and determines if they qualify for either the Dean's List or the Honor Roll.\n",
    "\n",
    "def main():\n",
    "    print(\"Welcome to the GPA App!\")\n",
    "    print(\"Enter 'ZZZ' as the last name to quit processing student records.\")\n",
    "\n",
    "    while True:\n",
    "        last_name = input(\"\\nEnter your last name: \")\n",
    "        if last_name == 'ZZZ':\n",
    "            print(\"Quitting.\")\n",
    "            break\n",
    "\n",
    "        first_name = input(\"Enter your first name: \")\n",
    "        gpa = float(input(\"Enter your GPA: \"))\n",
    "\n",
    "        if gpa >= 3.5:\n",
    "            print(f\"{first_name} {last_name} has made the Dean's List!\")\n",
    "        elif gpa >= 3.25:\n",
    "            print(f\"{first_name} {last_name} has made the Honor Roll!\")\n",
    "        else:\n",
    "            print(f\"Sorry, {first_name} {last_name} does not qualify for Dean's List or Honor Roll.\")\n",
    "\n",
    "if __name__ == \"__main__\":\n",
    "    main()"
   ]
  },
  {
   "cell_type": "code",
   "execution_count": null,
   "id": "dad1b851-a0fe-4da1-9ff3-7118159e6dd6",
   "metadata": {},
   "outputs": [],
   "source": []
  }
 ],
 "metadata": {
  "kernelspec": {
   "display_name": "Python 3 (ipykernel)",
   "language": "python",
   "name": "python3"
  },
  "language_info": {
   "codemirror_mode": {
    "name": "ipython",
    "version": 3
   },
   "file_extension": ".py",
   "mimetype": "text/x-python",
   "name": "python",
   "nbconvert_exporter": "python",
   "pygments_lexer": "ipython3",
   "version": "3.11.7"
  }
 },
 "nbformat": 4,
 "nbformat_minor": 5
}
