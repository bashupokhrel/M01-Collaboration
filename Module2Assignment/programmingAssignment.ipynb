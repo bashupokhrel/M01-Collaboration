{
 "cells": [
  {
   "cell_type": "code",
   "execution_count": null,
   "id": "ad55791e-e31e-4046-97dc-f0a6d65388c5",
   "metadata": {},
   "outputs": [],
   "source": [
    "#Module 2: Programming Assignment\n",
    "# Bashu Pokhrel"
   ]
  },
  {
   "cell_type": "code",
   "execution_count": 1,
   "id": "f6a75c98-b09c-4037-a2f6-c91d5a9eedc2",
   "metadata": {},
   "outputs": [
    {
     "name": "stdout",
     "output_type": "stream",
     "text": [
      "Too high\n"
     ]
    }
   ],
   "source": [
    "# Chapter 4: Things to do\n",
    "# 4.1\n",
    "\n",
    "secret = 7\n",
    "guess = 9\n",
    "if guess < secret:\n",
    "    print(\"Too Low\")\n",
    "elif guess > secret:\n",
    "    print(\"Too high\")\n",
    "else:\n",
    "    print(\"Just right\")"
   ]
  },
  {
   "cell_type": "code",
   "execution_count": 2,
   "id": "74b50e51-6551-4de1-a2dc-6ab22faefc7f",
   "metadata": {},
   "outputs": [
    {
     "name": "stdout",
     "output_type": "stream",
     "text": [
      "It is cherry.\n"
     ]
    }
   ],
   "source": [
    "#Chapter 4 : Things to do\n",
    "#4.2\n",
    "\n",
    "small = True\n",
    "green = False\n",
    "if small:\n",
    "    if green:\n",
    "        print(\"It is a pea.\")\n",
    "    else:\n",
    "        print(\"It is cherry.\")\n",
    "else:\n",
    "    if green:\n",
    "        print(\"It is watermelon.\")\n",
    "    else:\n",
    "        print(\"It is pumpkin.\")\n",
    "\n"
   ]
  },
  {
   "cell_type": "code",
   "execution_count": 1,
   "id": "20d83770-a0b6-4605-9357-5ca3a65d8837",
   "metadata": {},
   "outputs": [
    {
     "name": "stdout",
     "output_type": "stream",
     "text": [
      "3\n",
      "2\n",
      "1\n",
      "0\n"
     ]
    }
   ],
   "source": [
    "#Chapter 6: Things to do\n",
    "#6.1\n",
    "\n",
    "for value in list(range(3,-1,-1)):\n",
    "    print(value)\n",
    "    \n"
   ]
  },
  {
   "cell_type": "code",
   "execution_count": 5,
   "id": "663f5ac2-6988-4f72-b278-154b8aa67048",
   "metadata": {},
   "outputs": [
    {
     "name": "stdout",
     "output_type": "stream",
     "text": [
      "too low\n",
      "too low\n",
      "too low\n",
      "too low\n",
      "too low\n",
      "too low\n",
      "found it!\n"
     ]
    }
   ],
   "source": [
    "#Chapter 6: Things to do\n",
    "#6.2\n",
    "\n",
    "guess_me = 7\n",
    "number = 1\n",
    "\n",
    "while number <= guess_me:\n",
    "    if number <guess_me:\n",
    "        print('too low')\n",
    "    elif number == guess_me:\n",
    "        print('found it!')\n",
    "        break\n",
    "    else:\n",
    "        print('oops')\n",
    "        break\n",
    "    number += 1\n",
    "    "
   ]
  },
  {
   "cell_type": "code",
   "execution_count": null,
   "id": "16d34e95-45e2-4a50-9aae-c5991b1893d3",
   "metadata": {},
   "outputs": [],
   "source": [
    "#Chapter 6: Things to do\n",
    "#6.3\n",
    "\n",
    "guess_me = 5\n",
    "for number in range(10):\n",
    "    if number < guess_me:\n",
    "        print('too low')\n",
    "    elif number == guess_me:\n",
    "        print('found it!')\n",
    "        "
   ]
  }
 ],
 "metadata": {
  "kernelspec": {
   "display_name": "Python 3 (ipykernel)",
   "language": "python",
   "name": "python3"
  },
  "language_info": {
   "codemirror_mode": {
    "name": "ipython",
    "version": 3
   },
   "file_extension": ".py",
   "mimetype": "text/x-python",
   "name": "python",
   "nbconvert_exporter": "python",
   "pygments_lexer": "ipython3",
   "version": "3.11.7"
  }
 },
 "nbformat": 4,
 "nbformat_minor": 5
}
