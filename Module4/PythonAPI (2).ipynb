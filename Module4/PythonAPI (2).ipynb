{
 "cells": [
  {
   "cell_type": "code",
   "execution_count": null,
   "id": "21251c41-9a91-4337-acbd-54627d70e29d",
   "metadata": {},
   "outputs": [],
   "source": [
    "#Bashu Pokhrel\n",
    "#Python API"
   ]
  },
  {
   "cell_type": "code",
   "execution_count": null,
   "id": "cc7f54cb-6f65-41ca-838c-3bdc60a2633a",
   "metadata": {},
   "outputs": [],
   "source": [
    "from flask import Flask, request, jsonify\n",
    "from flask_sqlalchemy import SQLAlchemy\n",
    "\n",
    "app = Flask(__name__)\n",
    "app.config['SQLALCHEMY_DATABASE_URI'] = 'sqlite:///books.db'\n",
    "db = SQLAlchemy(app)\n",
    "\n",
    "class Book(db.Model):\n",
    "    id = db.Column(db.Integer, primary_key=True)\n",
    "    book_name = db.Column(db.String(100), nullable=False)\n",
    "    author = db.Column(db.String(100), nullable=False)\n",
    "    publisher = db.Column(db.String(100), nullable=False)\n",
    "\n",
    "    def __repr__(self):\n",
    "        return f'<Book {self.book_name}>'\n",
    "\n",
    "@app.route('/books', methods=['GET'])\n",
    "def get_books():\n",
    "    books = Book.query.all()\n",
    "    output = []\n",
    "    for book in books:\n",
    "        book_data = {'id': book.id, 'book_name': book.book_name, 'author': book.author, 'publisher': book.publisher}\n",
    "        output.append(book_data)\n",
    "    return jsonify({'books': output})\n",
    "\n",
    "@app.route('/books/<int:book_id>', methods=['GET'])\n",
    "def get_book(book_id):\n",
    "    book = Book.query.get_or_404(book_id)\n",
    "    book_data = {'id': book.id, 'book_name': book.book_name, 'author': book.author, 'publisher': book.publisher}\n",
    "    return jsonify(book_data)\n",
    "\n",
    "@app.route('/books', methods=['POST'])\n",
    "def create_book():\n",
    "    data = request.json\n",
    "    new_book = Book(book_name=data['book_name'], author=data['author'], publisher=data['publisher'])\n",
    "    db.session.add(new_book)\n",
    "    db.session.commit()\n",
    "    return jsonify({'message': 'Book created successfully'}), 201\n",
    "\n",
    "@app.route('/books/<int:book_id>', methods=['PUT'])\n",
    "def update_book(book_id):\n",
    "    book = Book.query.get_or_404(book_id)\n",
    "    data = request.json\n",
    "    book.book_name = data['book_name']\n",
    "    book.author = data['author']\n",
    "    book.publisher = data['publisher']\n",
    "    db.session.commit()\n",
    "    return jsonify({'message': 'Book updated successfully'})\n",
    "\n",
    "@app.route('/books/<int:book_id>', methods=['DELETE'])\n",
    "def delete_book(book_id):\n",
    "    book = Book.query.get_or_404(book_id)\n",
    "    db.session.delete(book)\n",
    "    db.session.commit()\n",
    "    return jsonify({'message': 'Book deleted successfully'})\n",
    "\n",
    "if __name__ == '__main__':\n",
    "    db.create_all()\n",
    "    app.run(debug=True)\n"
   ]
  }
 ],
 "metadata": {
  "kernelspec": {
   "display_name": "Python 3 (ipykernel)",
   "language": "python",
   "name": "python3"
  },
  "language_info": {
   "codemirror_mode": {
    "name": "ipython",
    "version": 3
   },
   "file_extension": ".py",
   "mimetype": "text/x-python",
   "name": "python",
   "nbconvert_exporter": "python",
   "pygments_lexer": "ipython3",
   "version": "3.11.7"
  }
 },
 "nbformat": 4,
 "nbformat_minor": 5
}
