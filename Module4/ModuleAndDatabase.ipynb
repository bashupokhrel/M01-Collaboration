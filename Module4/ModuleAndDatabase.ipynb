{
 "cells": [
  {
   "cell_type": "code",
   "execution_count": null,
   "id": "94035bc5-c1b6-4044-9b1d-209e93a486ff",
   "metadata": {},
   "outputs": [],
   "source": [
    "#Module 4\n",
    "#Bashu Pokhrel"
   ]
  },
  {
   "cell_type": "code",
   "execution_count": null,
   "id": "58dfbeb7-f8e4-4e69-b489-7db181c0990a",
   "metadata": {},
   "outputs": [],
   "source": [
    "#11.1\n",
    "# Create zoo.py file\n",
    "# Content of zoo.py\n",
    "def hours():\n",
    "    print('Open 9-5 daily')\n"
   ]
  },
  {
   "cell_type": "code",
   "execution_count": null,
   "id": "9a0f413a-770d-4310-8ffc-6792f275bbaf",
   "metadata": {},
   "outputs": [],
   "source": [
    "import zoo\n",
    "zoo.hours()\n"
   ]
  },
  {
   "cell_type": "code",
   "execution_count": null,
   "id": "67b75994-b81d-4aee-84a2-5c2a9344e3c0",
   "metadata": {},
   "outputs": [],
   "source": [
    "#11.2\n",
    "import zoo as menagerie\n",
    "menagerie.hours()\n"
   ]
  },
  {
   "cell_type": "code",
   "execution_count": null,
   "id": "c26f7593-9a6b-42d4-a43f-ae75d25daf97",
   "metadata": {},
   "outputs": [],
   "source": [
    "#16.8\n",
    "pip install sqlalchemy\n",
    "\n",
    "from sqlalchemy import create_engine, select, Table, MetaData\n",
    "\n",
    "# Create an engine to connect to the SQLite database\n",
    "engine = create_engine('sqlite:///books.db', echo=True)\n",
    "\n",
    "# Define metadata\n",
    "metadata = MetaData()\n",
    "\n",
    "# Reflect the existing database into a new metadata object\n",
    "metadata.reflect(bind=engine)\n",
    "\n",
    "# Get the book table from the metadata\n",
    "book_table = metadata.tables['book']\n",
    "\n",
    "# Create a select statement to select the title column from the book table\n",
    "select_statement = select([book_table.c.title]).order_by(book_table.c.title)\n",
    "\n",
    "# Execute the select statement and fetch all results\n",
    "with engine.connect() as connection:\n",
    "    result = connection.execute(select_statement)\n",
    "    # Iterate over the result and print the titles\n",
    "    for row in result:\n",
    "        print(row[0])\n"
   ]
  }
 ],
 "metadata": {
  "kernelspec": {
   "display_name": "Python 3 (ipykernel)",
   "language": "python",
   "name": "python3"
  },
  "language_info": {
   "codemirror_mode": {
    "name": "ipython",
    "version": 3
   },
   "file_extension": ".py",
   "mimetype": "text/x-python",
   "name": "python",
   "nbconvert_exporter": "python",
   "pygments_lexer": "ipython3",
   "version": "3.11.7"
  }
 },
 "nbformat": 4,
 "nbformat_minor": 5
}
